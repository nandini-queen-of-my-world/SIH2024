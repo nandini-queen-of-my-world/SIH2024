{
 "cells": [
  {
   "cell_type": "code",
   "execution_count": 1,
   "id": "b7218fa2",
   "metadata": {},
   "outputs": [
    {
     "name": "stdout",
     "output_type": "stream",
     "text": [
      "Found 723 images belonging to 2 classes.\n",
      "Found 180 images belonging to 2 classes.\n"
     ]
    },
    {
     "name": "stderr",
     "output_type": "stream",
     "text": [
      "C:\\Users\\sriramsai\\anaconda3\\Lib\\site-packages\\keras\\src\\layers\\convolutional\\base_conv.py:107: UserWarning: Do not pass an `input_shape`/`input_dim` argument to a layer. When using Sequential models, prefer using an `Input(shape)` object as the first layer in the model instead.\n",
      "  super().__init__(activity_regularizer=activity_regularizer, **kwargs)\n",
      "C:\\Users\\sriramsai\\anaconda3\\Lib\\site-packages\\keras\\src\\trainers\\data_adapters\\py_dataset_adapter.py:121: UserWarning: Your `PyDataset` class should call `super().__init__(**kwargs)` in its constructor. `**kwargs` can include `workers`, `use_multiprocessing`, `max_queue_size`. Do not pass these arguments to `fit()`, as they will be ignored.\n",
      "  self._warn_if_super_not_called()\n"
     ]
    },
    {
     "name": "stdout",
     "output_type": "stream",
     "text": [
      "Epoch 1/10\n",
      "\u001b[1m23/23\u001b[0m \u001b[32m━━━━━━━━━━━━━━━━━━━━\u001b[0m\u001b[37m\u001b[0m \u001b[1m15s\u001b[0m 490ms/step - accuracy: 0.6220 - loss: 0.6572 - val_accuracy: 0.6667 - val_loss: 0.5935\n",
      "Epoch 2/10\n",
      "\u001b[1m23/23\u001b[0m \u001b[32m━━━━━━━━━━━━━━━━━━━━\u001b[0m\u001b[37m\u001b[0m \u001b[1m8s\u001b[0m 344ms/step - accuracy: 0.6508 - loss: 0.5761 - val_accuracy: 0.6667 - val_loss: 0.9167\n",
      "Epoch 3/10\n",
      "\u001b[1m23/23\u001b[0m \u001b[32m━━━━━━━━━━━━━━━━━━━━\u001b[0m\u001b[37m\u001b[0m \u001b[1m8s\u001b[0m 342ms/step - accuracy: 0.7002 - loss: 0.5889 - val_accuracy: 0.6667 - val_loss: 0.6096\n",
      "Epoch 4/10\n",
      "\u001b[1m23/23\u001b[0m \u001b[32m━━━━━━━━━━━━━━━━━━━━\u001b[0m\u001b[37m\u001b[0m \u001b[1m8s\u001b[0m 343ms/step - accuracy: 0.6911 - loss: 0.5518 - val_accuracy: 0.6611 - val_loss: 0.6159\n",
      "Epoch 5/10\n",
      "\u001b[1m23/23\u001b[0m \u001b[32m━━━━━━━━━━━━━━━━━━━━\u001b[0m\u001b[37m\u001b[0m \u001b[1m8s\u001b[0m 346ms/step - accuracy: 0.6974 - loss: 0.5478 - val_accuracy: 0.6056 - val_loss: 0.6013\n",
      "Epoch 6/10\n",
      "\u001b[1m23/23\u001b[0m \u001b[32m━━━━━━━━━━━━━━━━━━━━\u001b[0m\u001b[37m\u001b[0m \u001b[1m8s\u001b[0m 343ms/step - accuracy: 0.7158 - loss: 0.5178 - val_accuracy: 0.5389 - val_loss: 0.6422\n",
      "Epoch 7/10\n",
      "\u001b[1m23/23\u001b[0m \u001b[32m━━━━━━━━━━━━━━━━━━━━\u001b[0m\u001b[37m\u001b[0m \u001b[1m8s\u001b[0m 342ms/step - accuracy: 0.6329 - loss: 0.5703 - val_accuracy: 0.6056 - val_loss: 0.6263\n",
      "Epoch 8/10\n",
      "\u001b[1m23/23\u001b[0m \u001b[32m━━━━━━━━━━━━━━━━━━━━\u001b[0m\u001b[37m\u001b[0m \u001b[1m8s\u001b[0m 340ms/step - accuracy: 0.7433 - loss: 0.5412 - val_accuracy: 0.5667 - val_loss: 0.6104\n",
      "Epoch 9/10\n",
      "\u001b[1m23/23\u001b[0m \u001b[32m━━━━━━━━━━━━━━━━━━━━\u001b[0m\u001b[37m\u001b[0m \u001b[1m8s\u001b[0m 349ms/step - accuracy: 0.7133 - loss: 0.4890 - val_accuracy: 0.5333 - val_loss: 0.6466\n",
      "Epoch 10/10\n",
      "\u001b[1m23/23\u001b[0m \u001b[32m━━━━━━━━━━━━━━━━━━━━\u001b[0m\u001b[37m\u001b[0m \u001b[1m8s\u001b[0m 356ms/step - accuracy: 0.7052 - loss: 0.5174 - val_accuracy: 0.6000 - val_loss: 0.6204\n"
     ]
    },
    {
     "name": "stderr",
     "output_type": "stream",
     "text": [
      "WARNING:absl:You are saving your model as an HDF5 file via `model.save()` or `keras.saving.save_model(model)`. This file format is considered legacy. We recommend using instead the native Keras format, e.g. `model.save('my_model.keras')` or `keras.saving.save_model(model, 'my_model.keras')`. \n"
     ]
    }
   ],
   "source": [
    "import os\n",
    "import tensorflow as tf\n",
    "from tensorflow.keras.preprocessing.image import ImageDataGenerator, load_img, img_to_array\n",
    "import numpy as np\n",
    "\n",
    "# Paths to your dataset\n",
    "base_dir = r\"C:\\Users\\sriramsai\\OneDrive\\Desktop\\train\\train\"  # Change this to your dataset path\n",
    "oilspill_dir = os.path.join(base_dir, 'oilspill')\n",
    "nospill_dir = os.path.join(base_dir, 'nospill')\n",
    "\n",
    "# Parameters\n",
    "IMG_SIZE = (128, 128)  # Resize images to this size\n",
    "BATCH_SIZE = 32\n",
    "EPOCHS = 10 # Increased number of epochs\n",
    "DROPOUT_RATE = 0.5  # Dropout rate to avoid overfitting\n",
    "\n",
    "# ImageDataGenerator for image preprocessing and augmentation\n",
    "datagen = ImageDataGenerator(rescale=1.0/255.0, validation_split=0.2)  # Normalize pixel values\n",
    "\n",
    "# Load the training data\n",
    "train_generator = datagen.flow_from_directory(\n",
    "    base_dir,\n",
    "    target_size=IMG_SIZE,\n",
    "    batch_size=BATCH_SIZE,\n",
    "    class_mode='binary',\n",
    "    subset='training'\n",
    ")\n",
    "\n",
    "# Load the validation data\n",
    "validation_generator = datagen.flow_from_directory(\n",
    "    base_dir,\n",
    "    target_size=IMG_SIZE,\n",
    "    batch_size=BATCH_SIZE,\n",
    "    class_mode='binary',\n",
    "    subset='validation'\n",
    ")\n",
    "\n",
    "# Define a deeper CNN model\n",
    "model = tf.keras.models.Sequential([\n",
    "    tf.keras.layers.Conv2D(32, (3, 3), activation='relu', input_shape=(128, 128, 3)),\n",
    "    tf.keras.layers.MaxPooling2D(2, 2),\n",
    "    \n",
    "    tf.keras.layers.Conv2D(64, (3, 3), activation='relu'),\n",
    "    tf.keras.layers.MaxPooling2D(2, 2),\n",
    "    \n",
    "    tf.keras.layers.Conv2D(128, (3, 3), activation='relu'),\n",
    "    tf.keras.layers.MaxPooling2D(2, 2),\n",
    "    \n",
    "    tf.keras.layers.Conv2D(256, (3, 3), activation='relu'),\n",
    "    tf.keras.layers.MaxPooling2D(2, 2),\n",
    "    \n",
    "    tf.keras.layers.Flatten(),\n",
    "    tf.keras.layers.Dense(512, activation='relu'),\n",
    "    tf.keras.layers.Dropout(DROPOUT_RATE),  # Dropout to reduce overfitting\n",
    "    tf.keras.layers.Dense(256, activation='relu'),\n",
    "    tf.keras.layers.Dropout(DROPOUT_RATE),  # Dropout to reduce overfitting\n",
    "    tf.keras.layers.Dense(1, activation='sigmoid')  # Binary classification\n",
    "])\n",
    "\n",
    "# Compile the model\n",
    "model.compile(optimizer='adam', loss='binary_crossentropy', metrics=['accuracy'])\n",
    "\n",
    "# Train the model\n",
    "history = model.fit(\n",
    "    train_generator,\n",
    "    validation_data=validation_generator,\n",
    "    epochs=EPOCHS\n",
    ")\n",
    "\n",
    "# Save the trained model\n",
    "model.save('enhanced_oil_spill_detection_model.h5')\n",
    "\n",
    "# Function to test a single image\n",
    "def test_single_image(image_path, model):\n",
    "    img = load_img(image_path, target_size=IMG_SIZE)  # Load and resize image\n",
    "    img_array = img_to_array(img) / 255.0  # Convert image to array and normalize\n",
    "    img_array = np.expand_dims(img_array, axis=0)  # Add batch dimension\n",
    "\n",
    "    prediction = model.predict(img_array)\n",
    "    if prediction < 0.5:\n",
    "        print(\"No Oil Spill Detected.\")\n",
    "    else:\n",
    "        print(\"Oil Spill Detected.\")\n",
    "\n",
    "# Example of testing with an image\n"
   ]
  },
  {
   "cell_type": "code",
   "execution_count": 2,
   "id": "43a5d638",
   "metadata": {},
   "outputs": [
    {
     "name": "stdout",
     "output_type": "stream",
     "text": [
      "\u001b[1m1/1\u001b[0m \u001b[32m━━━━━━━━━━━━━━━━━━━━\u001b[0m\u001b[37m\u001b[0m \u001b[1m0s\u001b[0m 205ms/step\n",
      "Oil Spill Detected.\n"
     ]
    }
   ],
   "source": [
    "test_image_path = r\"C:\\Users\\sriramsai\\OneDrive\\Desktop\\train\\train\\oilspill\\0_0_0_img_01UWcGmvMy3qNHgS_SFr_cls_0.jpg\"  # Update this path\n",
    "test_single_image(test_image_path, model)"
   ]
  },
  {
   "cell_type": "code",
   "execution_count": null,
   "id": "986a82d2",
   "metadata": {},
   "outputs": [],
   "source": []
  }
 ],
 "metadata": {
  "kernelspec": {
   "display_name": "Python 3 (ipykernel)",
   "language": "python",
   "name": "python3"
  },
  "language_info": {
   "codemirror_mode": {
    "name": "ipython",
    "version": 3
   },
   "file_extension": ".py",
   "mimetype": "text/x-python",
   "name": "python",
   "nbconvert_exporter": "python",
   "pygments_lexer": "ipython3",
   "version": "3.11.4"
  }
 },
 "nbformat": 4,
 "nbformat_minor": 5
}
